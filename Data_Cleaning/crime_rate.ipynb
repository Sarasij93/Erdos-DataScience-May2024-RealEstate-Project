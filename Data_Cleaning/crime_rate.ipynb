{
 "cells": [
  {
   "cell_type": "code",
   "execution_count": 1,
   "id": "27b9cc74",
   "metadata": {},
   "outputs": [],
   "source": [
    "## Import base packages we'll use\n",
    "import pandas as pd\n",
    "import numpy as np\n",
    "import matplotlib.pyplot as plt\n",
    "\n",
    "from seaborn import set_style\n",
    "set_style(\"whitegrid\")"
   ]
  },
  {
   "cell_type": "code",
   "execution_count": 2,
   "id": "41221e32",
   "metadata": {},
   "outputs": [],
   "source": [
    "## this imports BeautifulSoup from its package, bs4\n",
    "import bs4\n",
    "## First we import the BeautifulSoup object\n",
    "from bs4 import BeautifulSoup"
   ]
  },
  {
   "cell_type": "code",
   "execution_count": 3,
   "id": "5dc7c5e8",
   "metadata": {},
   "outputs": [
    {
     "data": {
      "text/plain": [
       "Index([98103, 98038, 98115, 98052, 98117, 98042, 98034, 98118, 98023, 98006,\n",
       "       98133, 98059, 98058, 98155, 98074, 98033, 98027, 98125, 98056, 98053,\n",
       "       98001, 98075, 98126, 98092, 98144, 98106, 98116, 98029, 98004, 98199,\n",
       "       98065, 98122, 98146, 98008, 98028, 98040, 98198, 98003, 98031, 98072,\n",
       "       98168, 98112, 98055, 98107, 98136, 98178, 98030, 98177, 98166, 98022,\n",
       "       98105, 98045, 98002, 98077, 98011, 98019, 98108, 98119, 98005, 98007,\n",
       "       98188, 98032, 98014, 98070, 98109, 98102, 98010, 98024, 98148, 98039],\n",
       "      dtype='int64', name='zipcode')"
      ]
     },
     "execution_count": 3,
     "metadata": {},
     "output_type": "execute_result"
    }
   ],
   "source": [
    "df = pd.read_csv(\"data/kc_house_data.csv\")\n",
    "\n",
    "zips = df.zipcode.value_counts().index\n",
    "\n",
    "zips\n"
   ]
  },
  {
   "cell_type": "code",
   "execution_count": 4,
   "id": "fc4f78de",
   "metadata": {},
   "outputs": [],
   "source": [
    "import requests"
   ]
  },
  {
   "cell_type": "code",
   "execution_count": 16,
   "id": "b34434e0",
   "metadata": {},
   "outputs": [
    {
     "data": {
      "text/plain": [
       "403"
      ]
     },
     "execution_count": 16,
     "metadata": {},
     "output_type": "execute_result"
    }
   ],
   "source": [
    "root = \"https://crimegrade.org/safest-places-in-\" ##we will create our urls by adding to this root url\n",
    "\n",
    "url = root+str(zips[0])+\"/\" ## trying a random url to see if scraping works\n",
    "\n",
    "url\n",
    "\n",
    "response = requests.get(url)\n",
    "soup = BeautifulSoup(response.text, 'html.parser')\n",
    "\n",
    "response.status_code ##scraping fails\n",
    "\n",
    "#table = soup.find_all('div', attrs={'class':'CrimeGradeSurround'})\n",
    "#table"
   ]
  },
  {
   "cell_type": "markdown",
   "id": "b39756b1",
   "metadata": {},
   "source": [
    "### Since scraping failed here, we manually look up https://crimegrade.org/crime-by-zip-code/ and input zipcode from zips. \n",
    "\n",
    "##### Select the statement that starts with :\n",
    "*The rate of crime in ... is ... per 1,000 residents during a standard year*"
   ]
  },
  {
   "cell_type": "code",
   "execution_count": 18,
   "id": "8ba04292",
   "metadata": {},
   "outputs": [],
   "source": [
    "crime_rate = [48.96, 19.77, 32.44, 39.11, 32.42, 22.17, 28.30, 44.52, 22.01, 31.76, \n",
    "             35.61, 23.30, 27.10, 43.47, 12.13, 30.27, 23.98, 39.83, 28.44, 11.98, \n",
    "             28.96, 16.14, 47.29, 23.99, 85.24, 59.03, 33.61, 24.48, 74.23, 31.02, \n",
    "             17.09, 73.12, 52.17, 28.51, 16.62, 25.18, 39.35, 51.17, 33.56, 32.12,\n",
    "             94.01, 36.46, 31.48, 53.66, 27.10, 45.74, 64.47, 24.76, 45.65, 34.29,\n",
    "             59.33, 38.00, 47.16, 14.78, 20.92, 20.14, 72.84, 45.15, 51.95, 26.44,\n",
    "             173.6, 80.08, 20.29, 26.54, 72.98, 59.31, 44.85, 20.30, 58.76, 26.58]"
   ]
  },
  {
   "cell_type": "code",
   "execution_count": 33,
   "id": "43e3289c",
   "metadata": {},
   "outputs": [],
   "source": [
    "crime_zip = pd.DataFrame({'Zipcode': zips,\n",
    "             'ann_Crime_per_1000_res': crime_rate})"
   ]
  },
  {
   "cell_type": "code",
   "execution_count": 34,
   "id": "80606eac",
   "metadata": {},
   "outputs": [
    {
     "data": {
      "text/html": [
       "<div>\n",
       "<style scoped>\n",
       "    .dataframe tbody tr th:only-of-type {\n",
       "        vertical-align: middle;\n",
       "    }\n",
       "\n",
       "    .dataframe tbody tr th {\n",
       "        vertical-align: top;\n",
       "    }\n",
       "\n",
       "    .dataframe thead th {\n",
       "        text-align: right;\n",
       "    }\n",
       "</style>\n",
       "<table border=\"1\" class=\"dataframe\">\n",
       "  <thead>\n",
       "    <tr style=\"text-align: right;\">\n",
       "      <th></th>\n",
       "      <th>Zipcode</th>\n",
       "      <th>ann_Crime_per_1000_res</th>\n",
       "    </tr>\n",
       "  </thead>\n",
       "  <tbody>\n",
       "    <tr>\n",
       "      <th>44</th>\n",
       "      <td>98136</td>\n",
       "      <td>27.10</td>\n",
       "    </tr>\n",
       "    <tr>\n",
       "      <th>57</th>\n",
       "      <td>98119</td>\n",
       "      <td>45.15</td>\n",
       "    </tr>\n",
       "    <tr>\n",
       "      <th>68</th>\n",
       "      <td>98148</td>\n",
       "      <td>58.76</td>\n",
       "    </tr>\n",
       "    <tr>\n",
       "      <th>64</th>\n",
       "      <td>98109</td>\n",
       "      <td>72.98</td>\n",
       "    </tr>\n",
       "    <tr>\n",
       "      <th>11</th>\n",
       "      <td>98059</td>\n",
       "      <td>23.30</td>\n",
       "    </tr>\n",
       "    <tr>\n",
       "      <th>29</th>\n",
       "      <td>98199</td>\n",
       "      <td>31.02</td>\n",
       "    </tr>\n",
       "    <tr>\n",
       "      <th>48</th>\n",
       "      <td>98166</td>\n",
       "      <td>45.65</td>\n",
       "    </tr>\n",
       "    <tr>\n",
       "      <th>37</th>\n",
       "      <td>98003</td>\n",
       "      <td>51.17</td>\n",
       "    </tr>\n",
       "    <tr>\n",
       "      <th>4</th>\n",
       "      <td>98117</td>\n",
       "      <td>32.42</td>\n",
       "    </tr>\n",
       "    <tr>\n",
       "      <th>43</th>\n",
       "      <td>98107</td>\n",
       "      <td>53.66</td>\n",
       "    </tr>\n",
       "  </tbody>\n",
       "</table>\n",
       "</div>"
      ],
      "text/plain": [
       "    Zipcode  ann_Crime_per_1000_res\n",
       "44    98136                   27.10\n",
       "57    98119                   45.15\n",
       "68    98148                   58.76\n",
       "64    98109                   72.98\n",
       "11    98059                   23.30\n",
       "29    98199                   31.02\n",
       "48    98166                   45.65\n",
       "37    98003                   51.17\n",
       "4     98117                   32.42\n",
       "43    98107                   53.66"
      ]
     },
     "execution_count": 34,
     "metadata": {},
     "output_type": "execute_result"
    }
   ],
   "source": [
    "crime_zip.sample(10)\n"
   ]
  },
  {
   "cell_type": "code",
   "execution_count": 35,
   "id": "b54215d6",
   "metadata": {},
   "outputs": [],
   "source": [
    "crime_zip.to_csv(\"data/kc_crime_rate_zip.csv\")"
   ]
  },
  {
   "cell_type": "code",
   "execution_count": null,
   "id": "969abf85",
   "metadata": {},
   "outputs": [],
   "source": []
  }
 ],
 "metadata": {
  "kernelspec": {
   "display_name": "Python 3 (ipykernel)",
   "language": "python",
   "name": "python3"
  },
  "language_info": {
   "codemirror_mode": {
    "name": "ipython",
    "version": 3
   },
   "file_extension": ".py",
   "mimetype": "text/x-python",
   "name": "python",
   "nbconvert_exporter": "python",
   "pygments_lexer": "ipython3",
   "version": "3.11.7"
  }
 },
 "nbformat": 4,
 "nbformat_minor": 5
}
