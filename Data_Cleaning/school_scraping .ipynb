{
 "cells": [
  {
   "cell_type": "code",
   "execution_count": 1,
   "id": "27b9cc74",
   "metadata": {},
   "outputs": [],
   "source": [
    "## Import base packages we'll use\n",
    "import pandas as pd\n",
    "import numpy as np\n",
    "import matplotlib.pyplot as plt\n",
    "\n",
    "from seaborn import set_style\n",
    "set_style(\"whitegrid\")"
   ]
  },
  {
   "cell_type": "code",
   "execution_count": 2,
   "id": "41221e32",
   "metadata": {},
   "outputs": [],
   "source": [
    "## this imports BeautifulSoup from its package, bs4\n",
    "import bs4\n",
    "## First we import the BeautifulSoup object\n",
    "from bs4 import BeautifulSoup"
   ]
  },
  {
   "cell_type": "code",
   "execution_count": 207,
   "id": "5dc7c5e8",
   "metadata": {},
   "outputs": [
    {
     "data": {
      "text/plain": [
       "Index([98103, 98038, 98115, 98052, 98117, 98042, 98034, 98118, 98023, 98006,\n",
       "       98133, 98059, 98058, 98155, 98074, 98033, 98027, 98125, 98056, 98053,\n",
       "       98001, 98075, 98126, 98092, 98144, 98106, 98116, 98029, 98004, 98199,\n",
       "       98065, 98122, 98146, 98008, 98028, 98040, 98198, 98003, 98031, 98072,\n",
       "       98168, 98112, 98055, 98107, 98136, 98178, 98030, 98177, 98166, 98022,\n",
       "       98105, 98045, 98002, 98077, 98011, 98019, 98108, 98119, 98005, 98007,\n",
       "       98188, 98032, 98014, 98070, 98109, 98102, 98010, 98024, 98148, 98039],\n",
       "      dtype='int64', name='zipcode')"
      ]
     },
     "execution_count": 207,
     "metadata": {},
     "output_type": "execute_result"
    }
   ],
   "source": [
    "df = pd.read_csv(\"data/kc_house_data.csv\")\n",
    "\n",
    "zips = df.zipcode.value_counts().index\n",
    "\n",
    "zips\n"
   ]
  },
  {
   "cell_type": "code",
   "execution_count": 52,
   "id": "fc4f78de",
   "metadata": {},
   "outputs": [],
   "source": [
    "import requests"
   ]
  },
  {
   "cell_type": "code",
   "execution_count": 68,
   "id": "e4bad1c2",
   "metadata": {},
   "outputs": [
    {
     "data": {
      "text/plain": [
       "200"
      ]
     },
     "execution_count": 68,
     "metadata": {},
     "output_type": "execute_result"
    }
   ],
   "source": [
    "response.status_code"
   ]
  },
  {
   "cell_type": "code",
   "execution_count": 166,
   "id": "7ba3540c",
   "metadata": {},
   "outputs": [],
   "source": [
    "from time import sleep"
   ]
  },
  {
   "cell_type": "code",
   "execution_count": 167,
   "id": "d3e9b1d2",
   "metadata": {},
   "outputs": [],
   "source": [
    "root = \"https://www.schooldigger.com/go/WA/zip/\" ##we will create our urls by adding to this root url\n",
    "\n",
    "dfs = {} ##this will store all the dataframes\n",
    "\n",
    "for t in range(len(zips)): ##looping through all the zipcodes and scraping respectively that webpage\n",
    "    url = root+str(zips[t])+\"/search.aspx\"\n",
    "    response = requests.get(url)\n",
    "    soup = BeautifulSoup(response.text, 'html.parser')\n",
    "    table = soup.find('tbody')\n",
    "    rows = table.find_all('tr')\n",
    "    school_name = []\n",
    "\n",
    "    rating = []\n",
    "    \n",
    "    ##glyphicon-star-empty is the only thing I found whoihc keeps track of the rating on the webpage\n",
    "    ##The counts of empty subtracted from overall rating of 5 gives is the number of stars.\n",
    "\n",
    "    for i in range(len(rows)):\n",
    "        school_name.append(rows[i].find('td')['data-order'])\n",
    "        rating.append(5-len(rows[i].find_all('span', attrs={'class':'glyphicon-star-empty'}))) \n",
    "    \n",
    "    ##creating a dataframe and storing it in dfs so that we can call that dataframe using dfs[index]\n",
    "    \n",
    "    dfs[t] = pd.DataFrame({'School_Name' : school_name,\n",
    "                    'Schooldigger_Rating':rating,\n",
    "                    'Zipcode': (zips[t])*np.ones(len(rating))})\n",
    "    \n",
    "    sleep(2) ##repeated calls to the website"
   ]
  },
  {
   "cell_type": "code",
   "execution_count": 179,
   "id": "baa2ad4b",
   "metadata": {},
   "outputs": [
    {
     "data": {
      "text/html": [
       "<div>\n",
       "<style scoped>\n",
       "    .dataframe tbody tr th:only-of-type {\n",
       "        vertical-align: middle;\n",
       "    }\n",
       "\n",
       "    .dataframe tbody tr th {\n",
       "        vertical-align: top;\n",
       "    }\n",
       "\n",
       "    .dataframe thead th {\n",
       "        text-align: right;\n",
       "    }\n",
       "</style>\n",
       "<table border=\"1\" class=\"dataframe\">\n",
       "  <thead>\n",
       "    <tr style=\"text-align: right;\">\n",
       "      <th></th>\n",
       "      <th>School_Name</th>\n",
       "      <th>Schooldigger_Rating</th>\n",
       "      <th>Zipcode</th>\n",
       "    </tr>\n",
       "  </thead>\n",
       "  <tbody>\n",
       "    <tr>\n",
       "      <th>0</th>\n",
       "      <td>Rock Creek Elementary</td>\n",
       "      <td>5</td>\n",
       "      <td>98038.0</td>\n",
       "    </tr>\n",
       "    <tr>\n",
       "      <th>1</th>\n",
       "      <td>Glacier Park Elementary</td>\n",
       "      <td>4</td>\n",
       "      <td>98038.0</td>\n",
       "    </tr>\n",
       "    <tr>\n",
       "      <th>2</th>\n",
       "      <td>Lake Wilderness Elementary</td>\n",
       "      <td>4</td>\n",
       "      <td>98038.0</td>\n",
       "    </tr>\n",
       "    <tr>\n",
       "      <th>3</th>\n",
       "      <td>Shadow Lake Elementary</td>\n",
       "      <td>4</td>\n",
       "      <td>98038.0</td>\n",
       "    </tr>\n",
       "    <tr>\n",
       "      <th>4</th>\n",
       "      <td>Tahoma Senior High School</td>\n",
       "      <td>5</td>\n",
       "      <td>98038.0</td>\n",
       "    </tr>\n",
       "    <tr>\n",
       "      <th>5</th>\n",
       "      <td>Tahoma Elementary</td>\n",
       "      <td>4</td>\n",
       "      <td>98038.0</td>\n",
       "    </tr>\n",
       "    <tr>\n",
       "      <th>6</th>\n",
       "      <td>Cedar River Elementary</td>\n",
       "      <td>5</td>\n",
       "      <td>98038.0</td>\n",
       "    </tr>\n",
       "    <tr>\n",
       "      <th>7</th>\n",
       "      <td>Tahoma Open Doors</td>\n",
       "      <td>5</td>\n",
       "      <td>98038.0</td>\n",
       "    </tr>\n",
       "  </tbody>\n",
       "</table>\n",
       "</div>"
      ],
      "text/plain": [
       "                  School_Name  Schooldigger_Rating  Zipcode\n",
       "0       Rock Creek Elementary                    5  98038.0\n",
       "1     Glacier Park Elementary                    4  98038.0\n",
       "2  Lake Wilderness Elementary                    4  98038.0\n",
       "3      Shadow Lake Elementary                    4  98038.0\n",
       "4   Tahoma Senior High School                    5  98038.0\n",
       "5           Tahoma Elementary                    4  98038.0\n",
       "6      Cedar River Elementary                    5  98038.0\n",
       "7           Tahoma Open Doors                    5  98038.0"
      ]
     },
     "execution_count": 179,
     "metadata": {},
     "output_type": "execute_result"
    }
   ],
   "source": [
    "dfs[1]"
   ]
  },
  {
   "cell_type": "code",
   "execution_count": 227,
   "id": "a1ef1fac",
   "metadata": {},
   "outputs": [],
   "source": [
    "DD1 = pd.DataFrame({}) "
   ]
  },
  {
   "cell_type": "code",
   "execution_count": 228,
   "id": "6687e05e",
   "metadata": {},
   "outputs": [],
   "source": [
    "for t in range(len(zips)):\n",
    "    DD1 = pd.concat([DD1, dfs[t]], axis=0, ignore_index=True)\n",
    "    "
   ]
  },
  {
   "cell_type": "code",
   "execution_count": 237,
   "id": "e56ed218",
   "metadata": {},
   "outputs": [],
   "source": [
    "DD2=DD1.copy()\n",
    "\n",
    "DD2['Zipcode'] = DD2['Zipcode'].astype(np.int64)"
   ]
  },
  {
   "cell_type": "code",
   "execution_count": 240,
   "id": "6e4619fe",
   "metadata": {},
   "outputs": [],
   "source": [
    "DD2.to_csv(\"data/kcpubschools_by_zip.csv\") ## removing the .0 from the zipcodes (could have been done at the very beginning)"
   ]
  },
  {
   "cell_type": "code",
   "execution_count": null,
   "id": "071eab1a",
   "metadata": {},
   "outputs": [],
   "source": []
  }
 ],
 "metadata": {
  "kernelspec": {
   "display_name": "Python 3 (ipykernel)",
   "language": "python",
   "name": "python3"
  },
  "language_info": {
   "codemirror_mode": {
    "name": "ipython",
    "version": 3
   },
   "file_extension": ".py",
   "mimetype": "text/x-python",
   "name": "python",
   "nbconvert_exporter": "python",
   "pygments_lexer": "ipython3",
   "version": "3.11.7"
  }
 },
 "nbformat": 4,
 "nbformat_minor": 5
}
