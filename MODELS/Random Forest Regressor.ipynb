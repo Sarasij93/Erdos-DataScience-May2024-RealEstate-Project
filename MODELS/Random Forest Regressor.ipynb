{
 "cells": [
  {
   "cell_type": "code",
   "execution_count": 46,
   "id": "c6715a15",
   "metadata": {},
   "outputs": [],
   "source": [
    "import pandas as pd\n",
    "import numpy as np\n",
    "import matplotlib as plt\n",
    "import seaborn as sns\n",
    "import matplotlib.pyplot as plt"
   ]
  },
  {
   "cell_type": "code",
   "execution_count": 47,
   "id": "5cce2af6",
   "metadata": {},
   "outputs": [],
   "source": [
    "df_train  = pd.read_csv(\"data/TRAIN_SET.csv\")"
   ]
  },
  {
   "cell_type": "code",
   "execution_count": 48,
   "id": "a8c57724",
   "metadata": {},
   "outputs": [],
   "source": [
    "from sklearn.linear_model import LinearRegression\n",
    "from sklearn.neighbors import KNeighborsRegressor\n",
    "from sklearn.tree import DecisionTreeRegressor\n",
    "from sklearn.ensemble import RandomForestRegressor\n",
    "import xgboost as xgb\n",
    "\n",
    "from sklearn.model_selection import train_test_split\n",
    "from sklearn.model_selection import GridSearchCV \n",
    "from sklearn.metrics import mean_squared_error\n",
    "from sklearn.model_selection import KFold"
   ]
  },
  {
   "cell_type": "code",
   "execution_count": 49,
   "id": "27321e9c",
   "metadata": {},
   "outputs": [],
   "source": [
    "kfold = KFold(5, shuffle = True, random_state = 123)"
   ]
  },
  {
   "cell_type": "markdown",
   "id": "0d6a2225",
   "metadata": {},
   "source": [
    "### Model 4 - Random Forest Regressor using  BEDS, BATHS, SQUARE FEET, LOT SIZE, AGE, LATITUDE, LATITUDE, Bayes_RatingSchool, crime_percentage, Age, zipcode, Property type (5 classes) with default parameters"
   ]
  },
  {
   "cell_type": "code",
   "execution_count": 50,
   "id": "9dd02def",
   "metadata": {},
   "outputs": [
    {
     "name": "stdout",
     "output_type": "stream",
     "text": [
      "mean rmse for Random Forest model including non traditional features is 0.10290433802072982\n"
     ]
    }
   ],
   "source": [
    "# define model object \n",
    "model4 = RandomForestRegressor(random_state = 123)\n",
    "rmse = np.zeros((5,1))\n",
    "\n",
    "for i, (train_index, test_index) in enumerate(kfold.split(df_train)):\n",
    "    # get the cross validation train set and holdout set \n",
    "    df_tt = df_train.iloc[train_index]\n",
    "    df_ho = df_train.iloc[test_index]\n",
    "\n",
    "    #fit the model1 \n",
    "    model4.fit(df_tt[['BEDS','BATHS', 'SQUARE FEET', 'LOT SIZE',  'zipcode', 'LATITUDE', 'LONGITUDE',\n",
    "                      'Bayes_RatingSchool','crime_percentage', 'Age', 'Single Family', 'Townhouse', 'Condo', 'Multi_Family4', 'Multi_Family5']],\n",
    "               df_tt.log_price.values)\n",
    "    \n",
    "    # predict values for holdout set \n",
    "    pred4 = model4.predict(df_ho[['BEDS','BATHS', 'SQUARE FEET', 'LOT SIZE',  'zipcode', 'LATITUDE', 'LONGITUDE',\n",
    "                      'Bayes_RatingSchool','crime_percentage', 'Age', 'Single Family', 'Townhouse', 'Condo', 'Multi_Family4', 'Multi_Family5']])\n",
    "    \n",
    "    # record mse\n",
    "    rmse[i] = np.sqrt(mean_squared_error(df_ho[['log_price']], pred4))\n",
    "    i = i + 1\n",
    "\n",
    "print('mean rmse for Random Forest model including non traditional features is', rmse.mean())"
   ]
  },
  {
   "cell_type": "markdown",
   "id": "f494f248",
   "metadata": {},
   "source": [
    "## Model Calibration/Parameter Tuning"
   ]
  },
  {
   "cell_type": "markdown",
   "id": "b9f8618b",
   "metadata": {},
   "source": [
    "### Grid search "
   ]
  },
  {
   "cell_type": "code",
   "execution_count": 51,
   "id": "2dd2b8a2",
   "metadata": {},
   "outputs": [],
   "source": [
    "def grid_search(params, model):\n",
    "    grid_reg = GridSearchCV(model, params, scoring ='neg_root_mean_squared_error', cv = 5, n_jobs = -1)\n",
    "    grid_reg.fit(X, Y)\n",
    "    best_params = grid_reg.best_params_\n",
    "    print(\"Best Parameters:\" , best_params)\n",
    "    best_score = -grid_reg.best_score_\n",
    "    print(\"MSE on training set with cross validation: {:.5f}\".format(best_score))\n",
    "    "
   ]
  },
  {
   "cell_type": "markdown",
   "id": "1b19cd5c",
   "metadata": {},
   "source": [
    "### Parameters tuning for Model 4 - Random Forest Regressor using grid search \n",
    "\n"
   ]
  },
  {
   "cell_type": "code",
   "execution_count": 52,
   "id": "b78c6896",
   "metadata": {},
   "outputs": [
    {
     "name": "stdout",
     "output_type": "stream",
     "text": [
      "Best Parameters: {'max_depth': None, 'max_features': 2, 'min_samples_leaf': 1, 'min_samples_split': 3, 'min_weight_fraction_leaf': 0.0, 'n_estimators': 200}\n",
      "MSE on training set with cross validation: 0.10294\n"
     ]
    }
   ],
   "source": [
    "params = {'n_estimators':[100,200],  \n",
    "                 'max_depth':[None,1],\n",
    "                 'min_samples_split':[2,3],\n",
    "                 'min_samples_leaf':[1,2],\n",
    "                 'min_weight_fraction_leaf':[0.0,0.0025],\n",
    "                 'max_features':[1,2]}\n",
    "                 \n",
    "model4 = RandomForestRegressor(random_state = 123)\n",
    "model = model4\n",
    "    \n",
    "X = df_train[['BEDS','BATHS', 'SQUARE FEET', 'LOT SIZE',  'zipcode', 'LATITUDE', 'LONGITUDE',\n",
    "                      'Bayes_RatingSchool','crime_percentage', 'Age', 'Single Family', 'Townhouse', 'Condo', 'Multi_Family4', 'Multi_Family5']]\n",
    "Y = df_train.log_price.values\n",
    "\n",
    "grid_search(params, model)"
   ]
  },
  {
   "cell_type": "markdown",
   "id": "ec332ccc",
   "metadata": {},
   "source": [
    "After tuning the model we found the best parameters to be the following\n",
    "\n",
    "* max_depth': None, (default)\n",
    "* max_features: 2, (default =1)\n",
    "* min_samples_leaf': 1, (default)\n",
    "* min_samples_split': 3, (default=2)\n",
    "* min_weight_fraction_leaf': 0.0, (default)\n",
    "* n_estimators': 200 (default = 100)\n",
    "\n",
    "These are not that different from the default values. "
   ]
  },
  {
   "cell_type": "markdown",
   "id": "ffb92d89",
   "metadata": {},
   "source": [
    "### Model 4 - Random Forest Regressor using  BEDS, BATHS, SQUARE FEET, LOT SIZE, AGE, LATITUDE, LATITUDE, Bayes_RatingSchool, crime_percentage, Age, zipcode, Property type (5 classes) with best parameters"
   ]
  },
  {
   "cell_type": "code",
   "execution_count": 53,
   "id": "347affc6",
   "metadata": {},
   "outputs": [
    {
     "name": "stdout",
     "output_type": "stream",
     "text": [
      "mean rmse for Random Forest model including non traditional features is 0.10108838956664287\n"
     ]
    }
   ],
   "source": [
    "# define model object \n",
    "model4 = RandomForestRegressor(max_features=2,min_samples_split=3,n_estimators=200,random_state = 123)\n",
    "rmse = np.zeros((5,1))\n",
    "\n",
    "for i, (train_index, test_index) in enumerate(kfold.split(df_train)):\n",
    "    # get the cross validation train set and holdout set \n",
    "    df_tt = df_train.iloc[train_index]\n",
    "    df_ho = df_train.iloc[test_index]\n",
    "\n",
    "    #fit the model1 \n",
    "    model4.fit(df_tt[['BEDS','BATHS', 'SQUARE FEET', 'LOT SIZE',  'zipcode', 'LATITUDE', 'LONGITUDE',\n",
    "                      'Bayes_RatingSchool','crime_percentage', 'Age', 'Single Family', 'Townhouse', 'Condo', 'Multi_Family4', 'Multi_Family5']],\n",
    "               df_tt.log_price.values)\n",
    "    \n",
    "    # predict values for holdout set \n",
    "    pred4 = model4.predict(df_ho[['BEDS','BATHS', 'SQUARE FEET', 'LOT SIZE',  'zipcode', 'LATITUDE', 'LONGITUDE',\n",
    "                      'Bayes_RatingSchool','crime_percentage', 'Age', 'Single Family', 'Townhouse', 'Condo', 'Multi_Family4', 'Multi_Family5']])\n",
    "    \n",
    "    # record mse\n",
    "    rmse[i] = np.sqrt(mean_squared_error(df_ho[['log_price']], pred4))\n",
    "    i = i + 1\n",
    "\n",
    "print('mean rmse for Random Forest model including non traditional features is', rmse.mean())"
   ]
  },
  {
   "cell_type": "code",
   "execution_count": null,
   "id": "a1a4fd6a",
   "metadata": {},
   "outputs": [],
   "source": []
  }
 ],
 "metadata": {
  "kernelspec": {
   "display_name": "Python 3 (ipykernel)",
   "language": "python",
   "name": "python3"
  },
  "language_info": {
   "codemirror_mode": {
    "name": "ipython",
    "version": 3
   },
   "file_extension": ".py",
   "mimetype": "text/x-python",
   "name": "python",
   "nbconvert_exporter": "python",
   "pygments_lexer": "ipython3",
   "version": "3.9.13"
  }
 },
 "nbformat": 4,
 "nbformat_minor": 5
}
