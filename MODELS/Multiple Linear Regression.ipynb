{
 "cells": [
  {
   "cell_type": "code",
   "execution_count": 9,
   "id": "c6715a15",
   "metadata": {},
   "outputs": [],
   "source": [
    "import pandas as pd\n",
    "import numpy as np\n",
    "import matplotlib as plt\n",
    "import seaborn as sns\n",
    "import matplotlib.pyplot as plt"
   ]
  },
  {
   "cell_type": "code",
   "execution_count": 10,
   "id": "5cce2af6",
   "metadata": {},
   "outputs": [],
   "source": [
    "df_train  = pd.read_csv(\"data/TRAIN_SET.csv\")"
   ]
  },
  {
   "cell_type": "code",
   "execution_count": 11,
   "id": "a8c57724",
   "metadata": {},
   "outputs": [],
   "source": [
    "from sklearn.linear_model import LinearRegression\n",
    "from sklearn.neighbors import KNeighborsRegressor\n",
    "from sklearn.tree import DecisionTreeRegressor\n",
    "from sklearn.ensemble import RandomForestRegressor\n",
    "import xgboost as xgb\n",
    "\n",
    "from sklearn.model_selection import train_test_split\n",
    "from sklearn.model_selection import GridSearchCV \n",
    "from sklearn.metrics import mean_squared_error\n",
    "from sklearn.model_selection import KFold"
   ]
  },
  {
   "cell_type": "code",
   "execution_count": 12,
   "id": "27321e9c",
   "metadata": {},
   "outputs": [],
   "source": [
    "kfold = KFold(5, shuffle = True, random_state = 123)"
   ]
  },
  {
   "cell_type": "markdown",
   "id": "0d6a2225",
   "metadata": {},
   "source": [
    "### Model 2 - Multiple Linear Regression using using  BEDS, BATHS, SQUARE FEET, LOT SIZE, AGE, LATITUDE, LATITUDE, Bayes_RatingSchool, crime_percentage, Age, zipcode, Property type (5 classes)"
   ]
  },
  {
   "cell_type": "code",
   "execution_count": 13,
   "id": "9dd02def",
   "metadata": {},
   "outputs": [
    {
     "name": "stdout",
     "output_type": "stream",
     "text": [
      "mean rmse for Regression model with traditional features is 0.14830445696926867\n"
     ]
    }
   ],
   "source": [
    "# define model object \n",
    "model2 = LinearRegression()\n",
    "rmse = np.zeros((5,1))\n",
    "\n",
    "for i, (train_index, test_index) in enumerate(kfold.split(df_train)):\n",
    "    # get the cross validation train set and holdout set \n",
    "    df_tt = df_train.iloc[train_index]\n",
    "    df_ho = df_train.iloc[test_index]\n",
    "    \n",
    "    #fit the model2 \n",
    "    model2.fit(df_tt[['BEDS','BATHS', 'SQUARE FEET', 'LOT SIZE',  'zipcode', 'LATITUDE', 'LONGITUDE',\n",
    "                      'Bayes_RatingSchool','crime_percentage', 'Age', 'Single Family', 'Townhouse', 'Condo', 'Multi_Family4', 'Multi_Family5']], df_tt[['log_price']])\n",
    "    \n",
    "    # predict values for holdout set \n",
    "    pred2 = model2.predict(df_ho[['BEDS','BATHS', 'SQUARE FEET', 'LOT SIZE',  'zipcode', 'LATITUDE', 'LONGITUDE',\n",
    "                      'Bayes_RatingSchool','crime_percentage', 'Age', 'Single Family', 'Townhouse', 'Condo', 'Multi_Family4', 'Multi_Family5']])\n",
    "    \n",
    "    # record mse\n",
    "    rmse[i] = np.sqrt(mean_squared_error(df_ho[['log_price']], pred2))\n",
    "    i = i + 1\n",
    "\n",
    "print('mean rmse for Regression model with traditional features is', rmse.mean())"
   ]
  },
  {
   "cell_type": "code",
   "execution_count": null,
   "id": "5afdfcf2",
   "metadata": {},
   "outputs": [],
   "source": []
  },
  {
   "cell_type": "code",
   "execution_count": null,
   "id": "408cfffd",
   "metadata": {},
   "outputs": [],
   "source": []
  }
 ],
 "metadata": {
  "kernelspec": {
   "display_name": "Python 3 (ipykernel)",
   "language": "python",
   "name": "python3"
  },
  "language_info": {
   "codemirror_mode": {
    "name": "ipython",
    "version": 3
   },
   "file_extension": ".py",
   "mimetype": "text/x-python",
   "name": "python",
   "nbconvert_exporter": "python",
   "pygments_lexer": "ipython3",
   "version": "3.9.13"
  }
 },
 "nbformat": 4,
 "nbformat_minor": 5
}
