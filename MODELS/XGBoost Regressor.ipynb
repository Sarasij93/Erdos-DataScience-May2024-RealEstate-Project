{
 "cells": [
  {
   "cell_type": "code",
   "execution_count": 27,
   "id": "c6715a15",
   "metadata": {},
   "outputs": [],
   "source": [
    "import pandas as pd\n",
    "import numpy as np\n",
    "import matplotlib as plt\n",
    "import seaborn as sns\n",
    "import matplotlib.pyplot as plt"
   ]
  },
  {
   "cell_type": "code",
   "execution_count": 28,
   "id": "5cce2af6",
   "metadata": {},
   "outputs": [],
   "source": [
    "df_train  = pd.read_csv(\"data/TRAIN_SET.csv\")"
   ]
  },
  {
   "cell_type": "code",
   "execution_count": 29,
   "id": "a8c57724",
   "metadata": {},
   "outputs": [],
   "source": [
    "from sklearn.linear_model import LinearRegression\n",
    "from sklearn.neighbors import KNeighborsRegressor\n",
    "from sklearn.tree import DecisionTreeRegressor\n",
    "from sklearn.ensemble import RandomForestRegressor\n",
    "import xgboost as xgb\n",
    "\n",
    "from sklearn.model_selection import train_test_split\n",
    "from sklearn.model_selection import GridSearchCV \n",
    "from sklearn.metrics import mean_squared_error\n",
    "from sklearn.model_selection import KFold"
   ]
  },
  {
   "cell_type": "code",
   "execution_count": 30,
   "id": "27321e9c",
   "metadata": {},
   "outputs": [],
   "source": [
    "kfold = KFold(5, shuffle = True, random_state = 123)"
   ]
  },
  {
   "cell_type": "markdown",
   "id": "0d6a2225",
   "metadata": {},
   "source": [
    "### Model 5 - XGBoost Regressor using  BEDS, BATHS, SQUARE FEET, LOT SIZE, AGE, LATITUDE, LATITUDE, Bayes_RatingSchool, crime_percentage, Age, zipcode, Property type (5 classes) with default parameters"
   ]
  },
  {
   "cell_type": "code",
   "execution_count": 32,
   "id": "9dd02def",
   "metadata": {},
   "outputs": [
    {
     "name": "stdout",
     "output_type": "stream",
     "text": [
      "mean rmse for XGBoost model including non traditional features is 0.09910098787660755\n"
     ]
    }
   ],
   "source": [
    "# define model object \n",
    "model5 = xgb.XGBRegressor(random_state=123)\n",
    "rmse = np.zeros((5,1))\n",
    "\n",
    "for i, (train_index, test_index) in enumerate(kfold.split(df_train)):\n",
    "    # get the cross validation train set and holdout set \n",
    "    df_tt = df_train.iloc[train_index]\n",
    "    df_ho = df_train.iloc[test_index]\n",
    "\n",
    "    #fit the model1 \n",
    "    model5.fit(df_tt[['BEDS','BATHS', 'SQUARE FEET', 'LOT SIZE',  'zipcode', 'LATITUDE', 'LONGITUDE',\n",
    "                      'Bayes_RatingSchool','crime_percentage', 'Age', 'Single Family', 'Townhouse', 'Condo', 'Multi_Family4', 'Multi_Family5']],\n",
    "               df_tt.log_price.values)\n",
    "    \n",
    "    # predict values for holdout set \n",
    "    pred5 = model5.predict(df_ho[['BEDS','BATHS', 'SQUARE FEET', 'LOT SIZE',  'zipcode', 'LATITUDE', 'LONGITUDE',\n",
    "                      'Bayes_RatingSchool','crime_percentage', 'Age', 'Single Family', 'Townhouse', 'Condo', 'Multi_Family4', 'Multi_Family5']])\n",
    "    \n",
    "    # record mse\n",
    "    rmse[i] = np.sqrt(mean_squared_error(df_ho[['log_price']], pred5))\n",
    "    i = i + 1\n",
    "\n",
    "print('mean rmse for XGBoost model including non traditional features is', rmse.mean())"
   ]
  },
  {
   "cell_type": "markdown",
   "id": "f494f248",
   "metadata": {},
   "source": [
    "## Model Calibration/Parameter Tuning"
   ]
  },
  {
   "cell_type": "markdown",
   "id": "b9f8618b",
   "metadata": {},
   "source": [
    "### Grid search "
   ]
  },
  {
   "cell_type": "code",
   "execution_count": 33,
   "id": "2dd2b8a2",
   "metadata": {},
   "outputs": [],
   "source": [
    "def grid_search(params, model):\n",
    "    grid_reg = GridSearchCV(model, params, scoring = 'neg_root_mean_squared_error', cv = 5, n_jobs = -1)\n",
    "    grid_reg.fit(X, Y)\n",
    "    best_params = grid_reg.best_params_\n",
    "    print(\"Best Parameters:\" , best_params)\n",
    "    best_score = -grid_reg.best_score_\n",
    "    print(\"RMSE on training set with cross validation: {:.5f}\".format(best_score))\n",
    "    "
   ]
  },
  {
   "cell_type": "markdown",
   "id": "1b19cd5c",
   "metadata": {},
   "source": [
    "### Parameters tuning for Model 5 - XGBoost using grid search \n",
    "\n"
   ]
  },
  {
   "cell_type": "code",
   "execution_count": 34,
   "id": "b78c6896",
   "metadata": {},
   "outputs": [
    {
     "name": "stdout",
     "output_type": "stream",
     "text": [
      "Best Parameters: {'learning_rate': 0.1, 'max_depth': 5, 'min_child_weight': 2, 'n_estimators': 150, 'subsample': 0.6}\n",
      "RMSE on training set with cross validation: 0.09606\n"
     ]
    }
   ],
   "source": [
    "params = {'learning_rate':[0.3,0.2,0.1],\n",
    "          'n_estimators':[100,150],  \n",
    "          'subsample':[1,0.6,0.5],\n",
    "          'max_depth':[6,5],\n",
    "          'min_child_weight':[1,2]}\n",
    "model5 = xgb.XGBRegressor()\n",
    "model = model5\n",
    "    \n",
    "X = df_train[['BEDS','BATHS', 'SQUARE FEET', 'LOT SIZE',  'zipcode', 'LATITUDE', 'LONGITUDE',\n",
    "                      'Bayes_RatingSchool','crime_percentage', 'Age', 'Single Family', 'Townhouse', 'Condo', 'Multi_Family4', 'Multi_Family5']]\n",
    "\n",
    "Y = df_train.log_price.values\n",
    "\n",
    "grid_search(params, model)"
   ]
  },
  {
   "cell_type": "markdown",
   "id": "a05d53d6",
   "metadata": {},
   "source": [
    "After tuning the model we found the best parameters to be the following\n",
    "\n",
    "* learning_rate=0.1, (default=0.3)\n",
    "* max_depth=5, (default =6)\n",
    "* min_child_weight=2, (default=1)\n",
    "* n_estimators=150, (default=100)\n",
    "* subsample=0.6, (default=1)\n",
    "\n",
    "\n",
    "These are not that different from the default values. "
   ]
  },
  {
   "cell_type": "markdown",
   "id": "d32b4afd",
   "metadata": {},
   "source": [
    "### Model 5 - XGBoost Regressor using  BEDS, BATHS, SQUARE FEET, LOT SIZE, AGE, LATITUDE, LATITUDE, Bayes_RatingSchool, crime_percentage, Age, zipcode, Property type (5 classes) with best parameters"
   ]
  },
  {
   "cell_type": "code",
   "execution_count": 35,
   "id": "091049b6",
   "metadata": {},
   "outputs": [
    {
     "name": "stdout",
     "output_type": "stream",
     "text": [
      "mean rmse for XGBoost model including non traditional features is 0.09547820019113182\n"
     ]
    }
   ],
   "source": [
    "# define model object \n",
    "model5 = xgb.XGBRegressor(learning_rate=0.1,\n",
    "                          max_depth=5,\n",
    "                          min_child_weight=2,\n",
    "                          n_estimators=150,\n",
    "                          subsample=0.6)\n",
    "rmse = np.zeros((5,1))\n",
    "\n",
    "for i, (train_index, test_index) in enumerate(kfold.split(df_train)):\n",
    "    # get the cross validation train set and holdout set \n",
    "    df_tt = df_train.iloc[train_index]\n",
    "    df_ho = df_train.iloc[test_index]\n",
    "\n",
    "    #fit the model1 \n",
    "    model5.fit(df_tt[['BEDS','BATHS', 'SQUARE FEET', 'LOT SIZE',  'zipcode', 'LATITUDE', 'LONGITUDE',\n",
    "                      'Bayes_RatingSchool','crime_percentage', 'Age', 'Single Family', 'Townhouse', 'Condo', 'Multi_Family4', 'Multi_Family5']],\n",
    "               df_tt.log_price.values)\n",
    "    \n",
    "    # predict values for holdout set \n",
    "    pred5 = model5.predict(df_ho[['BEDS','BATHS', 'SQUARE FEET', 'LOT SIZE',  'zipcode', 'LATITUDE', 'LONGITUDE',\n",
    "                      'Bayes_RatingSchool','crime_percentage', 'Age', 'Single Family', 'Townhouse', 'Condo', 'Multi_Family4', 'Multi_Family5']])\n",
    "    \n",
    "    # record mse\n",
    "    rmse[i] = np.sqrt(mean_squared_error(df_ho[['log_price']], pred5))\n",
    "    i = i + 1\n",
    "\n",
    "print('mean rmse for XGBoost model including non traditional features is', rmse.mean())"
   ]
  },
  {
   "cell_type": "markdown",
   "id": "534817a3",
   "metadata": {},
   "source": [
    "From the models we used, XGBoost seem to perform well."
   ]
  },
  {
   "cell_type": "code",
   "execution_count": null,
   "id": "5b0aafd1",
   "metadata": {},
   "outputs": [],
   "source": []
  },
  {
   "cell_type": "code",
   "execution_count": null,
   "id": "56abad92",
   "metadata": {},
   "outputs": [],
   "source": []
  }
 ],
 "metadata": {
  "kernelspec": {
   "display_name": "Python 3 (ipykernel)",
   "language": "python",
   "name": "python3"
  },
  "language_info": {
   "codemirror_mode": {
    "name": "ipython",
    "version": 3
   },
   "file_extension": ".py",
   "mimetype": "text/x-python",
   "name": "python",
   "nbconvert_exporter": "python",
   "pygments_lexer": "ipython3",
   "version": "3.9.13"
  }
 },
 "nbformat": 4,
 "nbformat_minor": 5
}
