{
 "cells": [
  {
   "cell_type": "code",
   "execution_count": 14,
   "id": "c6715a15",
   "metadata": {},
   "outputs": [],
   "source": [
    "import pandas as pd\n",
    "import numpy as np\n",
    "import matplotlib as plt\n",
    "import seaborn as sns\n",
    "import matplotlib.pyplot as plt"
   ]
  },
  {
   "cell_type": "code",
   "execution_count": 15,
   "id": "5cce2af6",
   "metadata": {},
   "outputs": [],
   "source": [
    "df_train  = pd.read_csv(\"data/TRAIN_SET.csv\")"
   ]
  },
  {
   "cell_type": "code",
   "execution_count": 19,
   "id": "a8c57724",
   "metadata": {},
   "outputs": [],
   "source": [
    "from sklearn.linear_model import LinearRegression\n",
    "from sklearn.neighbors import KNeighborsRegressor\n",
    "from sklearn.tree import DecisionTreeRegressor\n",
    "from sklearn.ensemble import RandomForestRegressor\n",
    "import xgboost as xgb\n",
    "\n",
    "from sklearn.model_selection import train_test_split\n",
    "from sklearn.model_selection import GridSearchCV \n",
    "from sklearn.metrics import mean_squared_error\n",
    "from sklearn.model_selection import KFold"
   ]
  },
  {
   "cell_type": "code",
   "execution_count": 20,
   "id": "27321e9c",
   "metadata": {},
   "outputs": [],
   "source": [
    "kfold = KFold(5, shuffle = True, random_state = 123)"
   ]
  },
  {
   "cell_type": "markdown",
   "id": "0d6a2225",
   "metadata": {},
   "source": [
    "### Model 3 - Decision Tree Regressor using  BEDS, BATHS, SQUARE FEET, LOT SIZE, AGE, LATITUDE, LATITUDE, Bayes_RatingSchool, crime_percentage, Age, zipcode, Property type (5 classes) with default parameters"
   ]
  },
  {
   "cell_type": "code",
   "execution_count": 22,
   "id": "9dd02def",
   "metadata": {},
   "outputs": [
    {
     "name": "stdout",
     "output_type": "stream",
     "text": [
      "mean rmse for Decision Tree model including traditional features is 0.14405922910164803\n"
     ]
    }
   ],
   "source": [
    "# define model object \n",
    "model3 = DecisionTreeRegressor(random_state=123)\n",
    "rmse = np.zeros((5,1))\n",
    "\n",
    "for i, (train_index, test_index) in enumerate(kfold.split(df_train)):\n",
    "    # get the cross validation train set and holdout set \n",
    "    df_tt = df_train.iloc[train_index]\n",
    "    df_ho = df_train.iloc[test_index]\n",
    "\n",
    "    #fit the model1 \n",
    "    model3.fit(df_tt[['BEDS','BATHS', 'SQUARE FEET', 'LOT SIZE',  'zipcode', 'LATITUDE', 'LONGITUDE',\n",
    "                      'Bayes_RatingSchool','crime_percentage', 'Age', 'Single Family', 'Townhouse', 'Condo', 'Multi_Family4', 'Multi_Family5']],\n",
    "               df_tt[['log_price']])\n",
    "    \n",
    "    # predict values for holdout set \n",
    "    pred3 = model3.predict(df_ho[['BEDS','BATHS', 'SQUARE FEET', 'LOT SIZE',  'zipcode', 'LATITUDE', 'LONGITUDE',\n",
    "                      'Bayes_RatingSchool','crime_percentage', 'Age', 'Single Family', 'Townhouse', 'Condo', 'Multi_Family4', 'Multi_Family5']])\n",
    "    \n",
    "    # record mse\n",
    "    rmse[i] = np.sqrt(mean_squared_error(df_ho[['log_price']], pred3))\n",
    "    i = i + 1\n",
    "\n",
    "print('mean rmse for Decision Tree model including traditional features is', rmse.mean())"
   ]
  },
  {
   "cell_type": "markdown",
   "id": "f494f248",
   "metadata": {},
   "source": [
    "## Model Calibration/Parameter Tuning"
   ]
  },
  {
   "cell_type": "markdown",
   "id": "b9f8618b",
   "metadata": {},
   "source": [
    "### Grid search "
   ]
  },
  {
   "cell_type": "code",
   "execution_count": 23,
   "id": "2dd2b8a2",
   "metadata": {},
   "outputs": [],
   "source": [
    "def grid_search(params, model):\n",
    "    grid_reg = GridSearchCV(model, params, scoring = 'neg_root_mean_squared_error', cv = 5, n_jobs = -1)\n",
    "    grid_reg.fit(X, Y)\n",
    "    best_params = grid_reg.best_params_\n",
    "    print(\"Best Parameters:\" , best_params)\n",
    "    best_score = -grid_reg.best_score_\n",
    "    print(\"MSE on training set with cross validation: {:.5f}\".format(best_score))\n",
    "    "
   ]
  },
  {
   "cell_type": "markdown",
   "id": "1b19cd5c",
   "metadata": {},
   "source": [
    "### Parameters tuning for Model 3 - Decision Tree using grid search \n",
    "\n",
    "Here we wish to look at the parameters max_depth, min_samples_leaf."
   ]
  },
  {
   "cell_type": "code",
   "execution_count": 24,
   "id": "b78c6896",
   "metadata": {},
   "outputs": [
    {
     "name": "stdout",
     "output_type": "stream",
     "text": [
      "Best Parameters: {'max_depth': 8, 'max_features': None, 'min_samples_leaf': 1, 'min_samples_split': 2, 'min_weight_fraction_leaf': 0.0025}\n",
      "MSE on training set with cross validation: 0.12871\n"
     ]
    }
   ],
   "source": [
    "params = {'max_depth':[None, 1, 2, 3, 4, 5, 6, 7, 8, 9, 10], \n",
    "          'min_samples_leaf':[1, 2, 3, 4, 5],\n",
    "         'min_samples_split':[2,3],\n",
    "         'min_samples_leaf':[1,2],\n",
    "         'min_weight_fraction_leaf':[0.0,0.0025, 0.05],\n",
    "         'max_features':[None,1,2]}\n",
    "\n",
    "model3 = DecisionTreeRegressor(random_state = 123)\n",
    "model = model3\n",
    "    \n",
    "X = df_train[['BEDS','BATHS', 'SQUARE FEET', 'LOT SIZE',  'zipcode', 'LATITUDE', 'LONGITUDE',\n",
    "                      'Bayes_RatingSchool','crime_percentage', 'Age', 'Single Family', 'Townhouse', 'Condo', 'Multi_Family4', 'Multi_Family5']]\n",
    "Y = df_train[['log_price']]\n",
    "\n",
    "grid_search(params, model)"
   ]
  },
  {
   "cell_type": "markdown",
   "id": "323c3851",
   "metadata": {},
   "source": [
    "After tuning the model we found the best parameters to be the following\n",
    "\n",
    "* max_depth=8 (default=None)\n",
    "* max_leaf_nodes: None, (default)\n",
    "* min_samples_leaf': 1, (default)\n",
    "* min_samples_split': 2, (default)\n",
    "* min_weight_fraction_leaf': 0.0025, (default=0)\n",
    "* max_features = None(default)\n",
    "\n",
    "\n",
    "These are not that different from the default values. "
   ]
  },
  {
   "cell_type": "markdown",
   "id": "e1db83c3",
   "metadata": {},
   "source": [
    "### Model 3 - Decision Tree Regressor using  BEDS, BATHS, SQUARE FEET, LOT SIZE, AGE, LATITUDE, LATITUDE, Bayes_RatingSchool, crime_percentage, Age, zipcode, Property type (5 classes) with best parameters"
   ]
  },
  {
   "cell_type": "code",
   "execution_count": 25,
   "id": "de2ea76a",
   "metadata": {},
   "outputs": [
    {
     "name": "stdout",
     "output_type": "stream",
     "text": [
      "mean rmse for Decision Tree model including traditional features is 0.12776247525925472\n"
     ]
    }
   ],
   "source": [
    "# define model object \n",
    "model3 = DecisionTreeRegressor(max_depth=8,\n",
    "                              min_weight_fraction_leaf=0.0025,\n",
    "                              random_state = 123)\n",
    "rmse = np.zeros((5,1))\n",
    "\n",
    "for i, (train_index, test_index) in enumerate(kfold.split(df_train)):\n",
    "    # get the cross validation train set and holdout set \n",
    "    df_tt = df_train.iloc[train_index]\n",
    "    df_ho = df_train.iloc[test_index]\n",
    "\n",
    "    #fit the model1 \n",
    "    model3.fit(df_tt[['BEDS','BATHS', 'SQUARE FEET', 'LOT SIZE',  'zipcode', 'LATITUDE', 'LONGITUDE',\n",
    "                      'Bayes_RatingSchool','crime_percentage', 'Age', 'Single Family', 'Townhouse', 'Condo', 'Multi_Family4', 'Multi_Family5']],\n",
    "               df_tt[['log_price']])\n",
    "    \n",
    "    # predict values for holdout set \n",
    "    pred3 = model3.predict(df_ho[['BEDS','BATHS', 'SQUARE FEET', 'LOT SIZE',  'zipcode', 'LATITUDE', 'LONGITUDE',\n",
    "                      'Bayes_RatingSchool','crime_percentage', 'Age', 'Single Family', 'Townhouse', 'Condo', 'Multi_Family4', 'Multi_Family5']])\n",
    "    \n",
    "    # record mse\n",
    "    rmse[i] = np.sqrt(mean_squared_error(df_ho[['log_price']], pred3))\n",
    "    i = i + 1\n",
    "\n",
    "print('mean rmse for Decision Tree model including traditional features is', rmse.mean())"
   ]
  },
  {
   "cell_type": "code",
   "execution_count": null,
   "id": "a7d80666",
   "metadata": {},
   "outputs": [],
   "source": []
  }
 ],
 "metadata": {
  "kernelspec": {
   "display_name": "Python 3 (ipykernel)",
   "language": "python",
   "name": "python3"
  },
  "language_info": {
   "codemirror_mode": {
    "name": "ipython",
    "version": 3
   },
   "file_extension": ".py",
   "mimetype": "text/x-python",
   "name": "python",
   "nbconvert_exporter": "python",
   "pygments_lexer": "ipython3",
   "version": "3.9.13"
  }
 },
 "nbformat": 4,
 "nbformat_minor": 5
}
